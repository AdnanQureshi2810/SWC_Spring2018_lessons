{
 "cells": [
  {
   "cell_type": "markdown",
   "metadata": {},
   "source": [
    "# Comparison of GDP per capita among countries of Africa and Americas\n",
    "\n",
    "\n",
    "**Anna Williford** <br>\n",
    "_February 2018_\n",
    "\n",
    "Adapted from a [lesson](https://github.com/AnnaWilliford/2017-02-04-UTA/blob/gh-pages/workshop/02_day/02_pm/demographic_analysis_report.ipynb) by Daren Card, November 2017\n",
    "\n",
    "***"
   ]
  },
  {
   "cell_type": "markdown",
   "metadata": {},
   "source": [
    "## Introduction"
   ]
  },
  {
   "cell_type": "markdown",
   "metadata": {},
   "source": [
    "Gross Domestic Product (GDP) per capita is a country's income per person. To compare GDP per capita between the countries of Africa and Americas, I used gapminder dataset available at [GAPMINDER website](https://www.gapminder.org/data/ )"
   ]
  },
  {
   "cell_type": "markdown",
   "metadata": {},
   "source": [
    "## Data analysis"
   ]
  },
  {
   "cell_type": "markdown",
   "metadata": {},
   "source": [
    "I downloaded dataset `gapminder.txt` to `Data` folder in my working directory. I used Linux tools and Python to work with gapminder dataset. Linux command-line tools are very useful for simple manipulation of text files while Python is a great tool for data visualization. \n"
   ]
  },
  {
   "cell_type": "markdown",
   "metadata": {},
   "source": [
    "### Data overview "
   ]
  },
  {
   "cell_type": "markdown",
   "metadata": {},
   "source": [
    "My first step in the analysis of gapminder dataset is to know exactly what kind of data is available in the dataset.\n",
    "Here are the Linux commands I used to examine my dataset."
   ]
  },
  {
   "cell_type": "markdown",
   "metadata": {},
   "source": [
    ">```bash\n",
    "> #view first and last 5 records\n",
    "> head Data/gapminder.txt\n",
    "> tail Data/gapminder.txt\n",
    "\n",
    "> #check if file is tab-delimited\n",
    "> head Data/gapminder.txt | cat -T\n",
    "\n",
    "> #how many countries are in my data?\n",
    "> cut -f1 Data/gapminder.txt| grep -v 'country'| sort | uniq |wc -l\n",
    "\n",
    "> #for what years do I have data?\n",
    "> cut -f3 Data/gapminder.txt| grep -v 'year'|sort | uniq\n",
    "\n",
    "> #Does every country has data for the same number of years?\n",
    "> cut -f3 Data/gapminder.txt|grep -v 'year' |sort |uniq -c \n",
    ">```"
   ]
  },
  {
   "cell_type": "markdown",
   "metadata": {},
   "source": [
    "The dataset contains information about life expectancy, population size and GDP per capita for 142 countries for 12 non-consecutive years ranging from 1952 to 2007."
   ]
  },
  {
   "cell_type": "markdown",
   "metadata": {},
   "source": [
    "### Analysis of GDP per capita "
   ]
  },
  {
   "cell_type": "markdown",
   "metadata": {},
   "source": [
    "Looks like my dataset is in a proper tabular format and is ready to be imported in Python. I used Python's [Pandas](https://pandas.pydata.org/) library to work with the dataset as a data frame object. To make plots, I use [plotnine](http://plotnine.readthedocs.io/en/stable/index.html) library that implements `ggplot2` package from R."
   ]
  },
  {
   "cell_type": "code",
   "execution_count": 24,
   "metadata": {},
   "outputs": [
    {
     "name": "stdout",
     "output_type": "stream",
     "text": [
      "       country continent  year  lifeExp       pop   gdpPercap\n",
      "0  Afghanistan      Asia  1952   28.801   8425333  779.445314\n",
      "1  Afghanistan      Asia  1957   30.332   9240934  820.853030\n",
      "2  Afghanistan      Asia  1962   31.997  10267083  853.100710\n",
      "3  Afghanistan      Asia  1967   34.020  11537966  836.197138\n",
      "4  Afghanistan      Asia  1972   36.088  13079460  739.981106\n"
     ]
    }
   ],
   "source": [
    "import plotnine\n",
    "from plotnine import *\n",
    "import pandas as pd\n",
    "\n",
    "#read data into Python\n",
    "myData=pd.read_table(\"Data/gapminder.txt\")\n",
    "\n",
    "#view first few lines of the dataset\n",
    "print(myData.head())"
   ]
  },
  {
   "cell_type": "markdown",
   "metadata": {},
   "source": [
    "#### Analysis workflow"
   ]
  },
  {
   "cell_type": "markdown",
   "metadata": {},
   "source": [
    "To compare GDP per capita between Africa and Americas, I implemented the following steps in Python.\n",
    "\n",
    "1. Select rows with information about countries located in Africa or Americas\n",
    "2. Create a data frame with mean values of GDP per capita for Africa and Americas\n",
    "3. Create a barplot to visualize average GDP per capita\n",
    "4. Overlay barplot with GDP per capita values averaged over all years for every country. This is done to visualize the variation in GDP per capita among different countries on each continent\n"
   ]
  },
  {
   "cell_type": "markdown",
   "metadata": {},
   "source": [
    "#### Function definitions:"
   ]
  },
  {
   "cell_type": "markdown",
   "metadata": {},
   "source": [
    "To implement the steps above, I define 3 functions:"
   ]
  },
  {
   "cell_type": "code",
   "execution_count": 25,
   "metadata": {
    "collapsed": true
   },
   "outputs": [],
   "source": [
    "def SelectDataByCont(df,continents_list):\n",
    "    \"\"\"select data for continents given in the 'continents_list' from a dataframe 'df'\"\"\"    \n",
    "    dataSubset=myData.loc[df['continent'].isin(continents_list),:]\n",
    "    return dataSubset"
   ]
  },
  {
   "cell_type": "markdown",
   "metadata": {},
   "source": [
    ">**About this function** <br>\n",
    "> Select rows where 'continent' is the continent name listed in the `continents_list`<br>\n",
    "> If we are interested in data for a single continent, we can select it like this:\n",
    ">```python\n",
    ">myNewData=myData.loc[myData['continent']=='Africa',: ]\n",
    "\n",
    ">#I can accomplish the same result using `.isin` selection method:\n",
    ">contList=['Africa']\n",
    ">myNewData=myData.loc[myData['continent'].isin(contList),: ]\n",
    "\n",
    ">#And the same result using our function:\n",
    ">myNewData=SelectDataByCont(myData,contList)\n",
    ">```\n",
    "\n",
    ">Why is it better to use `.isin` method?\n",
    ">What if I want select rows with information about Africa and Americas?\n",
    ">```python\n",
    ">myNewData=myData.loc[(myData['continent']=='Africa') | (myData['continent']=='Americas'), :]\n",
    "\n",
    ">#I can again accomplish the same result using `.isin` selection method- I only need to redefine the list of continents:\n",
    ">contList=['Africa', 'Americas']\n",
    ">myNewData=myData.loc[myData['continent'].isin(contList),: ]\n",
    "\n",
    ">#And the same result by calling our function:\n",
    ">myNewData=SelectDataByCont(myData,contList)\n",
    "```\n",
    ">Why to write a function instead of just using `isin` method multiple times?<br>\n",
    ">Because if I want data for a new set of continents somewhere during my analysis, \n",
    ">I can just reuse the function and NOT write complicated expression multiple times\n",
    ">"
   ]
  },
  {
   "cell_type": "code",
   "execution_count": 26,
   "metadata": {
    "collapsed": true
   },
   "outputs": [],
   "source": [
    "def GetMeansByCategory(df,groupby_list):\n",
    "    \"\"\"calculate the means of data from 'df' grouped by categories given in 'groupby_list' \"\"\"   \n",
    "    dataMeans=df.groupby(groupby_list, as_index=False).mean()\n",
    "    return dataMeans "
   ]
  },
  {
   "cell_type": "markdown",
   "metadata": {},
   "source": [
    ">**About this function** <br>\n",
    ">.groupby method is a very useful function that allows us to split the dataset by category of interest. <br>\n",
    ">As an example, we can easily split our dataset by 'continent'\n",
    ">```python\n",
    ">groupedData=myNewData.groupby('continent', as_index=False)\n",
    ">#groupedData is an obeject with our data grouped by 'continent'\n",
    "\n",
    ">#We can now apply different functions to it\n",
    ">groupedData_means=myNewData.groupby('continent', as_index=False).mean()\n",
    ">groupedData_sums=myNewData.groupby('continent', as_index=False).sum()\n",
    ">groupedData_count=myNewData.groupby('continent', as_index=False).count()\n",
    "\n",
    ">#if we split by 2 categories, for example'continent' and 'country', we store them in lists\n",
    ">groupedData_means=myNewData.groupby(['continent','country'], as_index=False).mean()\n",
    "\n",
    ">#we obtain the same result with our function after defining a list of categories to split the data by\n",
    ">groupBy=['continent', 'country']\n",
    ">meansPerCont=GetMeansByCategory(myNewData,groupBy)\n",
    ">```"
   ]
  },
  {
   "cell_type": "code",
   "execution_count": 27,
   "metadata": {
    "collapsed": true
   },
   "outputs": [],
   "source": [
    "def MakeBarPlot(df):\n",
    "    \"\"\" make a barplot with data from 'df' \"\"\"\n",
    "    p=ggplot(df) + \\\n",
    "        aes(x = 'continent', y = 'gdpPercap', fill='continent') + \\\n",
    "        geom_bar(stat='stat_identity', color=\"grey\") + \\\n",
    "        xlab('Continent') + \\\n",
    "        ylab('GDP per capita') +\\\n",
    "        ggtitle('GDP per capita: a comparison')         \n",
    "    return p \n"
   ]
  },
  {
   "cell_type": "markdown",
   "metadata": {},
   "source": [
    ">**About this function** <br>\n",
    ">This function makes a barplot. You can think of it as a function to make a base plot to which other layers can be added"
   ]
  },
  {
   "cell_type": "markdown",
   "metadata": {},
   "source": [
    "## Results"
   ]
  },
  {
   "cell_type": "markdown",
   "metadata": {},
   "source": [
    "**Step 1:** Select data for Asia and Americas"
   ]
  },
  {
   "cell_type": "code",
   "execution_count": 28,
   "metadata": {},
   "outputs": [
    {
     "name": "stdout",
     "output_type": "stream",
     "text": [
      "['Africa' 'Americas']\n"
     ]
    }
   ],
   "source": [
    "#make a list of continents to select\n",
    "ToSelect=['Africa','Americas']\n",
    "\n",
    "#call SelectDataByCont(df,continents_list) function\n",
    "myNewData=SelectDataByCont(myData,ToSelect)\n",
    "\n",
    "#check that myNewData only contains Asia and Americas\n",
    "print(pd.unique(myNewData['continent']))\n"
   ]
  },
  {
   "cell_type": "markdown",
   "metadata": {},
   "source": [
    "**Step 2:** Create dataframe with `gdpPercap` values averaged over all years for each continent"
   ]
  },
  {
   "cell_type": "code",
   "execution_count": 29,
   "metadata": {},
   "outputs": [
    {
     "name": "stdout",
     "output_type": "stream",
     "text": [
      "  continent    year    lifeExp           pop    gdpPercap\n",
      "0    Africa  1979.5  48.865330  9.916003e+06  2193.754578\n",
      "1  Americas  1979.5  64.658737  2.450479e+07  7136.110356\n"
     ]
    }
   ],
   "source": [
    "#define grouping variable as continent\n",
    "groupBy=['continent']\n",
    "\n",
    "#call GetMeansByCategory(df,groupby_list)\n",
    "myNewData_meanPerCont=GetMeansByCategory(myNewData,groupBy)\n",
    "print(myNewData_meanPerCont)         "
   ]
  },
  {
   "cell_type": "markdown",
   "metadata": {},
   "source": [
    "**Step 3:** Create a barplot to visualize avergae GDP per capita for Asia and Americas"
   ]
  },
  {
   "cell_type": "code",
   "execution_count": 30,
   "metadata": {},
   "outputs": [
    {
     "data": {
      "image/png": "[encoded data removed]",
      "text/plain": [
       "<matplotlib.figure.Figure at 0xbee2e48>"
      ]
     },
     "metadata": {},
     "output_type": "display_data"
    },
    {
     "name": "stdout",
     "output_type": "stream",
     "text": [
      "<ggplot: (13360353)>\n"
     ]
    }
   ],
   "source": [
    "#call MakeBarPlot(df)\n",
    "p=MakeBarPlot(myNewData_meanPerCont)\n",
    "print(p)"
   ]
  },
  {
   "cell_type": "markdown",
   "metadata": {},
   "source": [
    "**Step 4:** Overlay barplot with `gdpPercap` values averaged over all years for every country. \n",
    "- 4.1 Create a new dataset with  `gdpPercap` values averaged across all years for every country and continent"
   ]
  },
  {
   "cell_type": "code",
   "execution_count": 31,
   "metadata": {},
   "outputs": [
    {
     "name": "stdout",
     "output_type": "stream",
     "text": [
      "  continent       country    year    lifeExp           pop    gdpPercap\n",
      "0    Africa       Algeria  1979.5  59.030167  1.987541e+07  4426.025973\n",
      "1    Africa        Angola  1979.5  37.883500  7.309390e+06  3607.100529\n",
      "2    Africa         Benin  1979.5  48.779917  4.017497e+06  1155.395107\n",
      "3    Africa      Botswana  1979.5  54.597500  9.711862e+05  5031.503557\n",
      "4    Africa  Burkina_Faso  1979.5  44.694000  7.548677e+06   843.990665\n"
     ]
    }
   ],
   "source": [
    "#get averages across years for every country, keeping continents in the dataframe\n",
    "#define grouping categories\n",
    "groupBy_2=['continent','country']\n",
    "\n",
    "#call GetMeansByCategory(df,groupby_list)\n",
    "myNewData_meanPerCountry=GetMeansByCategory(myNewData,groupBy_2)\n",
    "print(myNewData_meanPerCountry.head())"
   ]
  },
  {
   "cell_type": "markdown",
   "metadata": {},
   "source": [
    "- 4.2 Add averaged `gdpPercap` values per country to barplot"
   ]
  },
  {
   "cell_type": "code",
   "execution_count": 32,
   "metadata": {},
   "outputs": [
    {
     "data": {
      "image/png": "[encoded data removed]",
      "text/plain": [
       "<matplotlib.figure.Figure at 0xcd6aa20>"
      ]
     },
     "metadata": {},
     "output_type": "display_data"
    },
    {
     "data": {
      "text/plain": [
       "<ggplot: (13366690)>"
      ]
     },
     "execution_count": 32,
     "metadata": {},
     "output_type": "execute_result"
    }
   ],
   "source": [
    "#p=MakeBarPlot(myNewData_meanPerCont) from Step 3\n",
    "\n",
    "p+geom_point(myNewData_meanPerCountry,aes(x = 'continent',  y = 'gdpPercap'),fill='black', \\\n",
    "             position=position_jitter(width=0.02), alpha=0.5)"
   ]
  },
  {
   "cell_type": "markdown",
   "metadata": {},
   "source": [
    "The final image can be saved as GDP_Africa_America.png with this command:\n",
    ">```Python\n",
    ">p1=p+geom_point(myNewData_meanPerCountry,aes(x = 'continent',  y = 'gdpPercap') )\n",
    ">p1.save(filename=\"GDP_Africa_America.png\", height=4, width=5, units = 'in')\n",
    ">```"
   ]
  },
  {
   "cell_type": "markdown",
   "metadata": {},
   "source": [
    "## Conclusion\n",
    "There is a large variation in GDP per capita among countries of Africa and Americas. On average, American continents are about 3 times wealthier than Africa."
   ]
  }
 ],
 "metadata": {
  "kernelspec": {
   "display_name": "Python 3",
   "language": "python",
   "name": "python3"
  },
  "language_info": {
   "codemirror_mode": {
    "name": "ipython",
    "version": 3
   },
   "file_extension": ".py",
   "mimetype": "text/x-python",
   "name": "python",
   "nbconvert_exporter": "python",
   "pygments_lexer": "ipython3",
   "version": "3.6.3"
  }
 },
 "nbformat": 4,
 "nbformat_minor": 2
}

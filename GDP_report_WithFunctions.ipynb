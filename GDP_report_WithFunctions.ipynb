{
 "cells": [
  {
   "cell_type": "markdown",
   "metadata": {},
   "source": [
    "# Comparison of GDP per capita among countries of Asia and Americas\n",
    "\n",
    "\n",
    "### Anna Williford\n",
    "_February 2018_"
   ]
  },
  {
   "cell_type": "markdown",
   "metadata": {},
   "source": [
    "## Introduction\n",
    "Gross Domestic Product (GDP) per capita is a country's income per person. To compare GDP per capita between the countries of Asia and Americas, I used gapminder dataset available at [GAPMINDER website](https://www.gapminder.org/data/ )"
   ]
  },
  {
   "cell_type": "markdown",
   "metadata": {},
   "source": [
    "## Data analysis\n",
    "\n",
    "I downloaded dataset `gapminder.txt` to `Data` folder in my working directory. I will be using Linux tools and Python to work with gapminder dataset. Linux command-line tools are very useful for simple manipulation of text files while Python is a great tool for statistical analyses and data visualization. \n",
    "\n",
    "### Data overview \n",
    "\n",
    "My first step in the analysis of gapminder dataset is to know exactly what kind of data is available in the dataset.\n",
    "To do that I will use a few Linux commands.\n"
   ]
  },
  {
   "cell_type": "markdown",
   "metadata": {},
   "source": [
    ">```bash\n",
    "> #view first and last 5 records\n",
    "> head Data/gapminder.txt\n",
    "> tail Data/gapminder.txt\n",
    "\n",
    "> #check if file is tab-delimited\n",
    "> head Data/gapminder.txt | cat -T\n",
    "\n",
    "> #how many countries are in my data?\n",
    "> cut -f1 Data/gapminder.txt| grep -v 'country'| sort | uniq |wc -l\n",
    "\n",
    "> #for what years do I have data?\n",
    "> cut -f3 Data/gapminder.txt| grep -v 'year'|sort | uniq\n",
    "\n",
    "> #Does every country has data for the same number of years?\n",
    "> cut -f3 Data/gapminder.txt|grep -v 'year' |sort |uniq -c \n",
    ">```"
   ]
  },
  {
   "cell_type": "markdown",
   "metadata": {},
   "source": [
    "The dataset contains information about life expectancy, population size and GDP per capita for 142 countries for 12 non-consecutive years ranging from 1952 to 2007."
   ]
  },
  {
   "cell_type": "markdown",
   "metadata": {},
   "source": [
    "### Analysis of GDP per capita "
   ]
  },
  {
   "cell_type": "markdown",
   "metadata": {},
   "source": [
    "My dataset is in a proper tabular format and is ready to be imported in Python. Python's Pandas package is used to represent dataset as a data frame. To make plots, I use `plotnine` package that implements `ggplot2` package from R."
   ]
  },
  {
   "cell_type": "code",
   "execution_count": 61,
   "metadata": {},
   "outputs": [
    {
     "name": "stdout",
     "output_type": "stream",
     "text": [
      "       country continent  year  lifeExp       pop   gdpPercap\n",
      "0  Afghanistan      Asia  1952   28.801   8425333  779.445314\n",
      "1  Afghanistan      Asia  1957   30.332   9240934  820.853030\n",
      "2  Afghanistan      Asia  1962   31.997  10267083  853.100710\n",
      "3  Afghanistan      Asia  1967   34.020  11537966  836.197138\n",
      "4  Afghanistan      Asia  1972   36.088  13079460  739.981106\n",
      "dataset dimensions: (1704, 6)\n"
     ]
    }
   ],
   "source": [
    "from plotnine import *\n",
    "import pandas as pd\n",
    "\n",
    "#read data into Python\n",
    "myData=pd.read_table(\"Data/gapminder.txt\")\n",
    "\n",
    "#view first few lines of the dataset\n",
    "print(myData.head())\n",
    "print(\"dataset dimensions: \"+ str(myData.shape))"
   ]
  },
  {
   "cell_type": "markdown",
   "metadata": {},
   "source": [
    "#### Function definitions:\n",
    "I define the following functions:"
   ]
  },
  {
   "cell_type": "code",
   "execution_count": 62,
   "metadata": {
    "collapsed": true
   },
   "outputs": [],
   "source": [
    "def SelectDataByCont(df,continents_list):\n",
    "    '''function to select continents from a dataframe'''    \n",
    "    NewData=myData.loc[df['continent'].isin(continents_list)]\n",
    "    return NewData\n",
    "\n",
    "def GetMeansByCategory(df,groupby_list):\n",
    "    '''function to calculate the means of data grouped by user-defined category'''    \n",
    "    DataMeans=df.groupby(groupby_list, as_index=False).mean()\n",
    "    return DataMeans \n",
    "\n",
    "def MakeBarPlot(df):\n",
    "    '''function to make barplot'''\n",
    "    p=ggplot(df) + aes(x = 'continent', y = 'gdpPercap', fill='continent') + geom_bar(stat='stat_identity', color=\"grey\")\n",
    "    return p \n",
    "\n",
    "def RemoveFromDataFrame(df,column,remove_list ):\n",
    "    '''function to remove rows from dataframe'''\n",
    "    NewData=df.loc[~df[column].isin(remove_list)]\n",
    "    return NewData"
   ]
  },
  {
   "cell_type": "markdown",
   "metadata": {},
   "source": [
    "#### Analysis workflow\n",
    "Functions defined above are used to compare GDP per capita between Asia and Americas in the following way:\n",
    "\n",
    "1. Select rows with information about countries located in Asia or Americas\n",
    "2. Create a data frame with mean values of gdpPercap for Asia and Americas\n",
    "3. Create a barplot to visualize avergae GDP per capita\n",
    "4. Overlay barplot with `gdpPercap` values averaged over all years for every country. This is done to visualize the variation in GDP per capita among different countries on each continent\n",
    "5. Remove obvious outliers from the original dataset.  Steps 5-8 are done to see if removing outliers leads to a different conclusion\n",
    "6. Recalculate `gdpPercap` means for each continent\n",
    "7. Recalculate `gdpPercap` means for each country\n",
    "8. Make barplot for `gdpPercap`for each continent and overlay it with data for individual country"
   ]
  },
  {
   "cell_type": "markdown",
   "metadata": {},
   "source": [
    "## Results"
   ]
  },
  {
   "cell_type": "markdown",
   "metadata": {},
   "source": [
    "**Step 1:** Select data for Asia and Americas"
   ]
  },
  {
   "cell_type": "code",
   "execution_count": 63,
   "metadata": {},
   "outputs": [
    {
     "name": "stdout",
     "output_type": "stream",
     "text": [
      "['Asia' 'Americas']\n"
     ]
    }
   ],
   "source": [
    "#make a list of continents to select\n",
    "ToSelect=['Asia','Americas']\n",
    "\n",
    "#call SelectDataByCont(df,continents_list) function\n",
    "myNewData=SelectDataByCont(myData,ToSelect)\n",
    "\n",
    "#check that myNewData only contains Asia and Americas\n",
    "print(pd.unique(myNewData['continent']))\n"
   ]
  },
  {
   "cell_type": "markdown",
   "metadata": {},
   "source": [
    "**Step 2:** Create dataframe with `gdpPercap` values averaged over all years for each continent"
   ]
  },
  {
   "cell_type": "code",
   "execution_count": 64,
   "metadata": {},
   "outputs": [
    {
     "name": "stdout",
     "output_type": "stream",
     "text": [
      "  continent    year    lifeExp           pop    gdpPercap\n",
      "0  Americas  1979.5  64.658737  2.450479e+07  7136.110356\n",
      "1      Asia  1979.5  60.064903  7.703872e+07  7902.150428\n"
     ]
    }
   ],
   "source": [
    "#define grouping variable as continent\n",
    "groupBy=['continent']\n",
    "\n",
    "#call GetMeansByCategory(df,groupby_list)\n",
    "myNewData_meanPerCont=GetMeansByCategory(myNewData,groupBy)\n",
    "print(myNewData_meanPerCont)         "
   ]
  },
  {
   "cell_type": "markdown",
   "metadata": {},
   "source": [
    "**Step 3:** Create a barplot to visualize avergae GDP per capita for Asia and Americas"
   ]
  },
  {
   "cell_type": "code",
   "execution_count": 65,
   "metadata": {},
   "outputs": [
    {
     "data": {
      "image/png": "[encoded data removed]",
      "text/plain": [
       "<matplotlib.figure.Figure at 0xc3082b0>"
      ]
     },
     "metadata": {},
     "output_type": "display_data"
    },
    {
     "name": "stdout",
     "output_type": "stream",
     "text": [
      "<ggplot: (-9223372036841626322)>\n"
     ]
    }
   ],
   "source": [
    "#call MakeBarPlot(df)\n",
    "p=MakeBarPlot(myNewData_meanPerCont)\n",
    "print(p)"
   ]
  },
  {
   "cell_type": "markdown",
   "metadata": {},
   "source": [
    "**Step 4:** Overlay barplot with `gdpPercap` values averaged over all years for every country. \n",
    "- 4.1 Create a new dataset with  `gdpPercap` values averaged across all years for every country and continent"
   ]
  },
  {
   "cell_type": "code",
   "execution_count": 66,
   "metadata": {},
   "outputs": [
    {
     "name": "stdout",
     "output_type": "stream",
     "text": [
      "  continent    country    year    lifeExp           pop     gdpPercap\n",
      "0  Americas  Argentina  1979.5  69.060417  2.860224e+07   8955.553783\n",
      "1  Americas    Bolivia  1979.5  52.504583  5.610395e+06   2961.228754\n",
      "2  Americas     Brazil  1979.5  62.239500  1.223121e+08   5829.316653\n",
      "3  Americas     Canada  1979.5  74.902750  2.446297e+07  22410.746340\n",
      "4  Americas      Chile  1979.5  67.430917  1.120573e+07   6703.289147\n"
     ]
    }
   ],
   "source": [
    "#get averages across years for every country, keeping continents in the dataframe\n",
    "#define grouping categories\n",
    "groupBy_2=['continent','country']\n",
    "\n",
    "#call GetMeansByCategory(df,groupby_list)\n",
    "myNewData_meanPerCountry=GetMeansByCategory(myNewData,groupBy_2)\n",
    "print(myNewData_meanPerCountry.head())"
   ]
  },
  {
   "cell_type": "markdown",
   "metadata": {},
   "source": [
    "- 4.2 Add averaged `gdpPercap` values per country to barplot"
   ]
  },
  {
   "cell_type": "code",
   "execution_count": 67,
   "metadata": {},
   "outputs": [
    {
     "data": {
      "image/png": "[encoded data removed]",
      "text/plain": [
       "<matplotlib.figure.Figure at 0xbb65c88>"
      ]
     },
     "metadata": {},
     "output_type": "display_data"
    },
    {
     "data": {
      "text/plain": [
       "<ggplot: (13004117)>"
      ]
     },
     "execution_count": 67,
     "metadata": {},
     "output_type": "execute_result"
    }
   ],
   "source": [
    "#p=MakeBarPlot(myNewData_meanPerCont) from Step 3\n",
    "p+geom_point(myNewData_meanPerCountry,aes(x = 'continent',  y = 'gdpPercap') )"
   ]
  },
  {
   "cell_type": "markdown",
   "metadata": {},
   "source": [
    "**Step 5:** Remove outliers. <br> \n",
    "It appears that `gdpPercap` values above 21000 are outliers. I identify countries corresponding to these values and remove them from the original `myNewData` dataset. "
   ]
  },
  {
   "cell_type": "code",
   "execution_count": 68,
   "metadata": {},
   "outputs": [
    {
     "name": "stdout",
     "output_type": "stream",
     "text": [
      "7            Canada\n",
      "30           Kuwait\n",
      "52    United_States\n",
      "Name: country, dtype: object\n"
     ]
    }
   ],
   "source": [
    "#identify outlier countries\n",
    "ToRemove=myNewData_mean2.loc[myNewData_mean2['gdpPercap']>21000,'country']\n",
    "print(ToRemove)\n",
    "\n",
    "# call RemoveFromDataFrame(df,column,remove_list ):\n",
    "myNewData2=RemoveFromDataFrame(myNewData, 'country',ToRemove)"
   ]
  },
  {
   "cell_type": "markdown",
   "metadata": {},
   "source": [
    "**Step 6:** Recalculate `gdpPercap` means for each continent "
   ]
  },
  {
   "cell_type": "code",
   "execution_count": 69,
   "metadata": {},
   "outputs": [
    {
     "name": "stdout",
     "output_type": "stream",
     "text": [
      "  continent    year    lifeExp           pop    gdpPercap\n",
      "0  Americas  1979.5  63.829877  1.564981e+07  5640.472226\n",
      "1      Asia  1979.5  59.788109  7.940848e+07  6107.439177\n"
     ]
    }
   ],
   "source": [
    "#call GetMeansByCategory(df,groupby_list)\n",
    "#groupBy=['continent']  from Step 2\n",
    "myNewData_meanPerCont2=GetMeansByCategory(myNewData2,groupBy)\n",
    "print(myNewData_meanPerCont2)"
   ]
  },
  {
   "cell_type": "markdown",
   "metadata": {},
   "source": [
    "**Step 7:** recalculate `gdpPercap` means for each country"
   ]
  },
  {
   "cell_type": "code",
   "execution_count": 70,
   "metadata": {},
   "outputs": [
    {
     "name": "stdout",
     "output_type": "stream",
     "text": [
      "  continent    country    year    lifeExp           pop    gdpPercap\n",
      "0  Americas  Argentina  1979.5  69.060417  2.860224e+07  8955.553783\n",
      "1  Americas    Bolivia  1979.5  52.504583  5.610395e+06  2961.228754\n",
      "2  Americas     Brazil  1979.5  62.239500  1.223121e+08  5829.316653\n",
      "3  Americas      Chile  1979.5  67.430917  1.120573e+07  6703.289147\n",
      "4  Americas   Colombia  1979.5  63.897750  2.725610e+07  4195.342920\n"
     ]
    }
   ],
   "source": [
    "#call GetMeansByCategory(df,groupby_list)\n",
    "#groupBy_2=['continent','year']  from Step 4\n",
    "myNewData_meanPerCountry2=GetMeansByCategory(myNewData2,groupBy_2)\n",
    "print(myNewData_meanPerCountry2.head())"
   ]
  },
  {
   "cell_type": "markdown",
   "metadata": {},
   "source": [
    "\n",
    "**Step 8:** Make barplot for each continent and overlay with data for individual country"
   ]
  },
  {
   "cell_type": "code",
   "execution_count": 71,
   "metadata": {},
   "outputs": [
    {
     "data": {
      "image/png": "[encoded data removed]",
      "text/plain": [
       "<matplotlib.figure.Figure at 0xdac3978>"
      ]
     },
     "metadata": {},
     "output_type": "display_data"
    },
    {
     "data": {
      "text/plain": [
       "<ggplot: (-9223372036841293126)>"
      ]
     },
     "execution_count": 71,
     "metadata": {},
     "output_type": "execute_result"
    }
   ],
   "source": [
    "p1=MakeBarPlot(myNewData_meanPerCont2) \n",
    "p1+geom_point(myNewData_meanPerCountry2,aes(x = 'continent',  y = 'gdpPercap'))"
   ]
  },
  {
   "cell_type": "markdown",
   "metadata": {},
   "source": [
    "The final image can be saved as GDP_Asia_America.png with this command:\n",
    ">```Python\n",
    ">p2=p1+geom_point(myNewData_meanPerCountry2,aes(x = 'continent',  y = 'gdpPercap'))\n",
    ">p2.save(filename=\"GDP_Asia_America.png\", height=4, width=5, units = 'in')\n",
    ">```"
   ]
  },
  {
   "cell_type": "markdown",
   "metadata": {},
   "source": [
    "## Conclusion\n",
    "There is a large variation in GDP per capita among countries of Asia and Americas. On average, Asia is a slightly richer continent, \n",
    "even after removing outlier countries."
   ]
  }
 ],
 "metadata": {
  "kernelspec": {
   "display_name": "Python 3",
   "language": "python",
   "name": "python3"
  },
  "language_info": {
   "codemirror_mode": {
    "name": "ipython",
    "version": 3
   },
   "file_extension": ".py",
   "mimetype": "text/x-python",
   "name": "python",
   "nbconvert_exporter": "python",
   "pygments_lexer": "ipython3",
   "version": "3.6.3"
  }
 },
 "nbformat": 4,
 "nbformat_minor": 2
}
